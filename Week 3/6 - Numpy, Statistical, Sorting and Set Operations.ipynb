{
 "cells": [
  {
   "cell_type": "markdown",
   "metadata": {},
   "source": [
    "## Statistical Sorting and Set Operations"
   ]
  },
  {
   "cell_type": "code",
   "execution_count": 3,
   "metadata": {},
   "outputs": [
    {
     "name": "stdout",
     "output_type": "stream",
     "text": [
      "[[-0.54867861 -0.46289461  0.07871258 -0.46888786  0.97381144]\n",
      " [ 1.01805119 -1.48678326  0.26963105  1.56116179  0.59996373]]\n"
     ]
    }
   ],
   "source": [
    "#setup a random 2 x 4 matrix\n",
    "import numpy as np\n",
    "rrr = np.random.randn(2,5)\n",
    "print(rrr)"
   ]
  },
  {
   "cell_type": "markdown",
   "metadata": {},
   "source": [
    "Above np.random.randn returns a sample from the \"standard normal\" distribution."
   ]
  },
  {
   "cell_type": "code",
   "execution_count": 4,
   "metadata": {},
   "outputs": [
    {
     "name": "stdout",
     "output_type": "stream",
     "text": [
      "[[  3.35349445  10.07213522  14.36165763  -6.24902096  14.04409699]\n",
      " [ 11.29285897   3.70542107  11.05083694   0.37466029 -13.01040753]]\n"
     ]
    }
   ],
   "source": [
    "#setup a random 2 x 4 matrix\n",
    "arr = 10 * np.random.randn(2,5) # we can multiply, subtract, add or divide as per our need\n",
    "print(arr)"
   ]
  },
  {
   "cell_type": "code",
   "execution_count": 5,
   "metadata": {},
   "outputs": [
    {
     "name": "stdout",
     "output_type": "stream",
     "text": [
      "4.899573308203356\n"
     ]
    }
   ],
   "source": [
    "#compute the mean for all elements\n",
    "print(arr.mean()) #mean function of numpy"
   ]
  },
  {
   "cell_type": "code",
   "execution_count": 6,
   "metadata": {},
   "outputs": [
    {
     "name": "stdout",
     "output_type": "stream",
     "text": [
      "[7.11647267 2.68267395]\n"
     ]
    }
   ],
   "source": [
    "#compute the mean by row\n",
    "print(arr.mean(axis = 1))"
   ]
  },
  {
   "cell_type": "code",
   "execution_count": 7,
   "metadata": {},
   "outputs": [
    {
     "name": "stdout",
     "output_type": "stream",
     "text": [
      "[ 7.32317671  6.88877815 12.70624729 -2.93718034  0.51684473]\n"
     ]
    }
   ],
   "source": [
    "#compute the mean by column\n",
    "print(arr.mean(axis = 0))"
   ]
  },
  {
   "cell_type": "code",
   "execution_count": 8,
   "metadata": {},
   "outputs": [
    {
     "name": "stdout",
     "output_type": "stream",
     "text": [
      "48.99573308203357\n"
     ]
    }
   ],
   "source": [
    "#sum all elements\n",
    "print(arr.sum())"
   ]
  },
  {
   "cell_type": "code",
   "execution_count": 12,
   "metadata": {},
   "outputs": [
    {
     "name": "stdout",
     "output_type": "stream",
     "text": [
      "[10.07213522  3.70542107]\n"
     ]
    }
   ],
   "source": [
    "#compute the medians or rows\n",
    "print(np.median(arr, axis = 1))"
   ]
  },
  {
   "cell_type": "code",
   "execution_count": 13,
   "metadata": {},
   "outputs": [
    {
     "name": "stdout",
     "output_type": "stream",
     "text": [
      "[ 7.32317671  6.88877815 12.70624729 -2.93718034  0.51684473]\n"
     ]
    }
   ],
   "source": [
    "#compute the medians of columns\n",
    "print(np.median(arr, axis = 0))"
   ]
  },
  {
   "cell_type": "markdown",
   "metadata": {},
   "source": [
    "## Sorting"
   ]
  },
  {
   "cell_type": "code",
   "execution_count": 15,
   "metadata": {},
   "outputs": [
    {
     "name": "stdout",
     "output_type": "stream",
     "text": [
      "[-0.96799458 -1.01104194  0.03289942 -0.369841    0.18923569  0.06801163\n",
      " -1.70588975  0.89110527  2.03925298  1.38253332]\n"
     ]
    }
   ],
   "source": [
    "#create a 10 element array of randoms\n",
    "unsorted = np.random.randn(10)\n",
    "print(unsorted)"
   ]
  },
  {
   "cell_type": "code",
   "execution_count": 16,
   "metadata": {},
   "outputs": [
    {
     "name": "stdout",
     "output_type": "stream",
     "text": [
      "[-1.70588975 -1.01104194 -0.96799458 -0.369841    0.03289942  0.06801163\n",
      "  0.18923569  0.89110527  1.38253332  2.03925298]\n",
      "\n",
      "[-0.96799458 -1.01104194  0.03289942 -0.369841    0.18923569  0.06801163\n",
      " -1.70588975  0.89110527  2.03925298  1.38253332]\n"
     ]
    }
   ],
   "source": [
    "#create copy and sort\n",
    "sorted = np.array(unsorted)  #creates a copy\n",
    "sorted.sort()                # sort elements using sort function from numpy\n",
    "\n",
    "print(sorted)\n",
    "print()\n",
    "print(unsorted)"
   ]
  },
  {
   "cell_type": "markdown",
   "metadata": {},
   "source": [
    "### Finding Unique Elements"
   ]
  },
  {
   "cell_type": "code",
   "execution_count": 17,
   "metadata": {},
   "outputs": [
    {
     "name": "stdout",
     "output_type": "stream",
     "text": [
      "[1 2 3 4 5 7]\n"
     ]
    }
   ],
   "source": [
    "array = np.array ([1,2,1,3,4,4,2,5,7])\n",
    "\n",
    "print(np.unique(array))"
   ]
  },
  {
   "cell_type": "markdown",
   "metadata": {},
   "source": [
    "### Set Operations with np.array data type"
   ]
  },
  {
   "cell_type": "code",
   "execution_count": 18,
   "metadata": {},
   "outputs": [
    {
     "name": "stdout",
     "output_type": "stream",
     "text": [
      "['desk' 'Chair' 'bulb'] ['lamp' 'bulb' 'chair']\n"
     ]
    }
   ],
   "source": [
    "s1 = np.array([\"desk\",\"Chair\",\"bulb\"])\n",
    "s2 = np.array([\"lamp\",\"bulb\",\"chair\"])\n",
    "print(s1,s2)"
   ]
  },
  {
   "cell_type": "code",
   "execution_count": 20,
   "metadata": {},
   "outputs": [
    {
     "name": "stdout",
     "output_type": "stream",
     "text": [
      "['bulb']\n"
     ]
    }
   ],
   "source": [
    "#intersection\n",
    "print(np.intersect1d(s1, s2))  # we use intersect1d becoz intersect expects 1d arrays"
   ]
  },
  {
   "cell_type": "code",
   "execution_count": 21,
   "metadata": {},
   "outputs": [
    {
     "name": "stdout",
     "output_type": "stream",
     "text": [
      "['Chair' 'bulb' 'chair' 'desk' 'lamp']\n"
     ]
    }
   ],
   "source": [
    "#union\n",
    "print(np.union1d(s1,s2))  # we use union1d becoz union expects 1d arrays"
   ]
  },
  {
   "cell_type": "code",
   "execution_count": 24,
   "metadata": {},
   "outputs": [
    {
     "name": "stdout",
     "output_type": "stream",
     "text": [
      "['Chair' 'desk']\n"
     ]
    }
   ],
   "source": [
    "#elements in s1 that are not in s2\n",
    "print(np.setdiff1d(s1,s2))\n",
    "#the answe is showing Chair because \"Chair\" and \"chair\" are different for python string"
   ]
  },
  {
   "cell_type": "code",
   "execution_count": 25,
   "metadata": {},
   "outputs": [
    {
     "name": "stdout",
     "output_type": "stream",
     "text": [
      "[False False  True]\n"
     ]
    }
   ],
   "source": [
    "#which element of s1 is also in s2\n",
    "print(np.in1d(s1,s2))"
   ]
  },
  {
   "cell_type": "markdown",
   "metadata": {},
   "source": []
  }
 ],
 "metadata": {
  "kernelspec": {
   "display_name": "Python 3",
   "language": "python",
   "name": "python3"
  },
  "language_info": {
   "codemirror_mode": {
    "name": "ipython",
    "version": 3
   },
   "file_extension": ".py",
   "mimetype": "text/x-python",
   "name": "python",
   "nbconvert_exporter": "python",
   "pygments_lexer": "ipython3",
   "version": "3.7.0"
  }
 },
 "nbformat": 4,
 "nbformat_minor": 2
}
